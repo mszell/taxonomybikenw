{
 "cells": [
  {
   "cell_type": "markdown",
   "metadata": {},
   "source": [
    "# Taxonomy examples\n",
    "## Project: Taxonomy of urban bicycle network approaches"
   ]
  },
  {
   "cell_type": "markdown",
   "metadata": {},
   "source": [
    "This notebook downloads selected bicycle and street network data sets and plots them.\n",
    "\n",
    "Contact: Michael Szell (michael.szell@gmail.com)  \n",
    "Created: 2021-01-05  \n",
    "Last modified: 2021-01-25"
   ]
  },
  {
   "cell_type": "markdown",
   "metadata": {},
   "source": [
    "## Preliminaries"
   ]
  },
  {
   "cell_type": "markdown",
   "metadata": {},
   "source": [
    "### Parameters"
   ]
  },
  {
   "cell_type": "code",
   "execution_count": null,
   "metadata": {},
   "outputs": [],
   "source": [
    "debug = False # If True, will produce plots and/or verbose output to double-check\n",
    "redownload = True # If True, will re-download data even if already there\n",
    "%run -i \"../parameters/parameters.py\""
   ]
  },
  {
   "cell_type": "markdown",
   "metadata": {},
   "source": [
    "### Setup"
   ]
  },
  {
   "cell_type": "code",
   "execution_count": null,
   "metadata": {},
   "outputs": [],
   "source": [
    "%run -i path.py\n",
    "%run -i setup.py"
   ]
  },
  {
   "cell_type": "markdown",
   "metadata": {},
   "source": [
    "### Functions"
   ]
  },
  {
   "cell_type": "code",
   "execution_count": null,
   "metadata": {},
   "outputs": [],
   "source": [
    "%run -i functions.py"
   ]
  },
  {
   "cell_type": "markdown",
   "metadata": {},
   "source": [
    "## Download data"
   ]
  },
  {
   "cell_type": "code",
   "execution_count": null,
   "metadata": {
    "scrolled": true
   },
   "outputs": [],
   "source": [
    "Gs = {}\n",
    "for placeid, placeinfo in tqdm(cities.items(), desc = \"Cities\"):\n",
    "    Gs[placeid] = {}\n",
    "    for parameterid, parameterinfo in tqdm(osmnxparameters.items(), desc = \"Networks\", leave = False):\n",
    "        if redownload or not os.path.isfile(PATH[\"data\"] + placeid + \"_\" + parameterid + \"_edges.zip\"):\n",
    "            for i in range(0,10): # retry loop\n",
    "                try:\n",
    "                    Gs[placeid][parameterid] = ox.graph_from_point(\n",
    "                                        center_point = (float(placeinfo[\"lat\"]), float(placeinfo[\"lon\"])), \n",
    "                                        dist = int(placeinfo[\"dist\"]),\n",
    "                                        network_type = parameterinfo['network_type'],\n",
    "                                        custom_filter = (parameterinfo['custom_filter']),\n",
    "                                        retain_all = parameterinfo['retain_all'],\n",
    "                                        simplify = False\n",
    "                                        )\n",
    "                except ValueError:\n",
    "                    Gs[placeid][parameterid] = nx.empty_graph(create_using = nx.MultiDiGraph)\n",
    "                    break\n",
    "                except: # osmnx throws a variety of connection/protocol/unboundlocal/etc. errors here\n",
    "                    print(\"Connection problem. Retrying.\")\n",
    "                    time.sleep(0.1 * 2**i)\n",
    "                    continue\n",
    "                break\n",
    "\n",
    "            ox_to_csv(Gs[placeid][parameterid], PATH[\"data\"], placeid, parameterid)"
   ]
  },
  {
   "cell_type": "markdown",
   "metadata": {},
   "source": [
    "## Plot networks"
   ]
  },
  {
   "cell_type": "code",
   "execution_count": null,
   "metadata": {},
   "outputs": [],
   "source": [
    "%%capture\n",
    "biketracks = [\"bike_highwaycycleway\", \"bike_cyclewaytrack\", \"bike_designatedpath\", \"bike_cyclewayrighttrack\", \"bike_cyclewaylefttrack\"]\n",
    "Gs = {}\n",
    "for placeid, placeinfo in tqdm(cities.items(), desc = \"Cities\"):\n",
    "    \n",
    "    # Load networks\n",
    "    Gs[placeid] = {}\n",
    "    for parameterid, parameterinfo in osmnxparameters.items():\n",
    "        Gs[placeid][parameterid] = csv_to_ig(PATH[\"data\"], placeid, parameterid)\n",
    "    # Plot\n",
    "    fig = initplot()\n",
    "    map_center = nxdraw(Gs[placeid][\"carall\"], \"carall\")\n",
    "    nxdraw(Gs[placeid][\"car30\"], \"car30\", map_center)\n",
    "    for fil in biketracks:\n",
    "        nxdraw(Gs[placeid][fil], \"bike_onstreet\", map_center, nnids = list(set([v[\"id\"] for v in Gs[placeid][fil].vs]).intersection(set([v[\"id\"] for v in Gs[placeid][\"carall\"].vs]))))\n",
    "    for fil in biketracks:\n",
    "        nxdraw(Gs[placeid][fil], \"bike_offstreet\", map_center, nnids = list(set([v[\"id\"] for v in Gs[placeid][fil].vs]).difference(set([v[\"id\"] for v in Gs[placeid][\"carall\"].vs]))))\n",
    "    nxdraw(Gs[placeid][\"bike_cyclestreet\"], \"bike_sharedstreet\", map_center)\n",
    "    nxdraw(Gs[placeid][\"bike_bicycleroad\"], \"bike_sharedstreet\", map_center)\n",
    "    nxdraw(Gs[placeid][\"bike_livingstreet\"], \"bike_sharedstreet\", map_center)\n",
    "    plt.savefig(PATH[\"plots\"] + placeid + '.pdf', bbox_inches=\"tight\")\n",
    "    plt.savefig(PATH[\"plots\"] + placeid + '.png', bbox_inches=\"tight\", dpi=plotparam[\"dpi\"])\n",
    "    plt.close()"
   ]
  }
 ],
 "metadata": {
  "kernelspec": {
   "display_name": "OSMNX",
   "language": "python",
   "name": "osmnx"
  },
  "language_info": {
   "codemirror_mode": {
    "name": "ipython",
    "version": 3
   },
   "file_extension": ".py",
   "mimetype": "text/x-python",
   "name": "python",
   "nbconvert_exporter": "python",
   "pygments_lexer": "ipython3",
   "version": "3.8.2"
  }
 },
 "nbformat": 4,
 "nbformat_minor": 2
}
